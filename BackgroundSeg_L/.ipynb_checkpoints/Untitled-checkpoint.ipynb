{
 "cells": [
  {
   "cell_type": "markdown",
   "metadata": {},
   "source": [
    "# Projeto 2 - Background Segmentation "
   ]
  },
  {
   "cell_type": "markdown",
   "metadata": {},
   "source": [
    "#### Visão Computacional"
   ]
  },
  {
   "cell_type": "markdown",
   "metadata": {},
   "source": [
    "### Leonardo Medeiros"
   ]
  },
  {
   "cell_type": "markdown",
   "metadata": {},
   "source": [
    "Este projeto consiste na implementação de um code book, utilizado para a segmentação entre background e foreground. Neste algoritmo a amostra em cada pixel são quantizados em livros de códigos que representam uma forma comprimida de modelo de fundo para uma longa sequência de imagens. Isso nos permite capturar variações estruturais de fundo devido ao movimento periódico durante um longo período de tempo.\n",
    "\n",
    "Para tal algoritmo é necessário um banco de imagens que representa o background, nas quais devem conter, de preferencia, poucos componentes em movimento para o treinamento do algoritmo.\n",
    "\n",
    "Também deve-se possuir imagens para servir como foreground, estas serão aplicadas após o treinamento do algoritmo, sendo possível diferenciar no resultado final o background, pintado de preto,  e o fourground, pintado de branco. logo torna-se viavel quantizar o número de pessoas na imagem de forma automatica.\n",
    "\n",
    "A motivação desse projeto, além do aprendizado, surge da possibilidade de implementar diversas aplicações extremamente uteis com o conceito de detecção de componentes não pertencentes ao fundo. como a propia detecção numerica de individuos, valor este valioso para a área de analises de dados."
   ]
  },
  {
   "cell_type": "markdown",
   "metadata": {},
   "source": [
    "## Import"
   ]
  },
  {
   "cell_type": "code",
   "execution_count": 1,
   "metadata": {},
   "outputs": [],
   "source": [
    "import numpy as np\n",
    "import pickle\n",
    "import cv2\n",
    "import time\n",
    "import random\n",
    "import matplotlib.pyplot as plt"
   ]
  },
  {
   "cell_type": "markdown",
   "metadata": {},
   "source": [
    "## Read Images"
   ]
  },
  {
   "cell_type": "code",
   "execution_count": 2,
   "metadata": {},
   "outputs": [],
   "source": [
    "def read_Imgs(image_name, n, tipo, total):\n",
    "    img_list = []\n",
    "     \n",
    "    for i in range(1, n + 1):\n",
    "        #Numero da imagem\n",
    "        list_number   = list(\"0000\")\n",
    "        string_i = list(str(random.randint(0, total)))\n",
    "        #string_i = list(str(i))\n",
    "        \n",
    "        #Atualiza numero da imagem conforme o iterador i\n",
    "        for j in range(1, len(string_i) + 1):\n",
    "            list_number[-j] = string_i[-j]\n",
    "            number  = \"\".join(list_number)\n",
    "            \n",
    "        #inserção e Leitura das images\n",
    "        img = image_name + number + tipo\n",
    "        imagem = cv2.imread(img)\n",
    "        img_list.append(cv2.imread(img).astype(float))\n",
    "    \n",
    "    return img_list"
   ]
  },
  {
   "cell_type": "markdown",
   "metadata": {},
   "source": [
    "## CodeBook"
   ]
  },
  {
   "cell_type": "markdown",
   "metadata": {},
   "source": [
    "A ideia central do algoritmo de forma mais detalhada se define a inicialmente realizar o treinamento criando code books para as imagens iniciais, estes posteriormente serão atualizados em um processo de matching, desde que satisfaçam a condição de ter o valor de colorista e brigthness próximos ao codeword ja existente, caso o novo code word não esteja nessa condição este é adicionado a lista de code books.\n",
    "\n",
    "A subtração das imagens ao utilizar o banco de foreground compara os valores de colordist e brigthness para cada pixel com o contido no treinamento, listado no code word, caso as condições sejam satisfeitas o pixel e pintado de preto, ou seja s valores são relativamente proximos, este é considerado como background, caso contrário, este e pintado de branco, considerado como foreground.   "
   ]
  },
  {
   "cell_type": "code",
   "execution_count": 14,
   "metadata": {},
   "outputs": [],
   "source": [
    "#Calcula o colordist do codeWord\n",
    "def getColorDist(x, v):\n",
    "    x2  = (x[0]**2) + (x[1]**2) + (x[2]**2)\n",
    "    v2  = (v[0]**2) + (v[1]**2) + (v[2]**2)\n",
    "    xv2 = ((x[0] * v[0]) + (x[1] * v[1]) + (x[2] * v[2])) ** 2  \n",
    "    if v2 == 0:\n",
    "        p = 0    \n",
    "    else:\n",
    "        p = xv2/v2\n",
    "    \n",
    "    colorDist = np.sqrt(abs(xv2 - p))\n",
    "    return colorDist\n",
    "    \n",
    "#Calcula o Brightness do codeWord\n",
    "def getBrightness(I, i_min, i_max):  \n",
    "    i_low = alpha * i_max\n",
    "    i_high = min(beta* i_max, (i_min/alpha))\n",
    "    return (i_low <= I <= i_high)\n",
    "    \n",
    "#Cria um codeBook\n",
    "def createCode_Book(size1, size2):\n",
    "    codeBooks = []\n",
    "    for i in range (size1):\n",
    "        codeBooks.append([])\n",
    "\n",
    "        for j in range (size2):\n",
    "            codeBooks[i].append([])\n",
    "    return codeBooks\n",
    "\n",
    "#Para cada Pixel chama a função get_PixelCodeBook\n",
    "def get_CodeBook(img_list, codeBooks):\n",
    "    t = 1\n",
    "    for img in img_list:  \n",
    "        for i in range (img.shape[0]):\n",
    "            for j in range (img.shape[1]):\n",
    "                codeBooks[i][j] = get_PixelCodeBook(img[i][j], t, codeBooks[i][j])\n",
    "        t += 1\n",
    "    return codeBooks\n",
    "\n",
    "#Implementa o codeBook inserindo valores a este\n",
    "def get_PixelCodeBook(pixel, t, codeBook):\n",
    "    x = [pixel[0], pixel[1], pixel[2]] \n",
    "    I = np.sqrt((pixel[0]**2) + (pixel[1]**2) + (pixel[2]**2))\n",
    "\n",
    "    mat = False\n",
    "    for codeword in codeBook:\n",
    "        colorDist  = getColorDist(x, [codeword[0], codeword[1], codeword[2]])\n",
    "        brigthnes = getBrightness(I, codeword[3], codeword[4])\n",
    "\n",
    "        if(colorDist <= e and brigthnes):\n",
    "            new_R = ((codeword[5] * codeword[0]) + pixel[0])/ (codeword[5] + 1)\n",
    "            new_G = ((codeword[5] * codeword[1]) + pixel[1])/ (codeword[5] + 1)\n",
    "            new_B = ((codeword[5] * codeword[2]) + pixel[2])/ (codeword[5] + 1)     \n",
    "            \n",
    "            codeword[0] = new_R\n",
    "            codeword[1] = new_G\n",
    "            codeword[2] = new_B\n",
    "            codeword[3] = min(I, codeword[3])\n",
    "            codeword[4] = max(I, codeword[4])\n",
    "            codeword[5] +=1\n",
    "            codeword[6] = max(codeword[6], t - codeword[8])\n",
    "            codeword[8] = t\n",
    "            \n",
    "            mat = True\n",
    "            break\n",
    "\n",
    "    if (not (mat)):\n",
    "        new_codeword = [pixel[0], pixel[1], pixel[2], I, I, 1, t - 1, t, t]\n",
    "        codeBook.append(new_codeword)\n",
    "   \n",
    "    return codeBook    \n",
    "\n",
    "#Para cada Pixel chama a função get_PixelSubtract\n",
    "def getSubtract(img_sub, codeBooks):\n",
    "    for img in img_sub:\n",
    "        for i in range(img.shape[0]):\n",
    "            for j in range(img.shape[1]):\n",
    "                img[i][j] =  get_PixelSubtract(img[i][j], codeBooks[i][j])\n",
    "    \n",
    "    return img_sub\n",
    "\n",
    "#Subtrai Foreground de Background atraves da analise de colorDist e Brigthnes\n",
    "def get_PixelSubtract(pixel, codeBook):     \n",
    "    x = [pixel[0], pixel[1], pixel[2]] \n",
    "    I = np.sqrt((pixel[0]**2) + (pixel[1]**2) + (pixel[2]**2))\n",
    "\n",
    "    for codeword in codeBook:\n",
    "        colorDist  = getColorDist(x, [codeword[0], codeword[1], codeword[2]])\n",
    "        brigthnes = getBrightness(I, codeword[3], codeword[4])\n",
    "     \n",
    "        if((colorDist <= e) and brigthnes):\n",
    "            return  [0, 0, 0]\n",
    "\n",
    "    return [255, 255, 255]\n",
    "\n",
    "#Ajusta o valor do lambda, e verifica se cada codeword esta na faixa aceitavel\n",
    "def alter_Lambda(codeBooks, n_images):\n",
    "    codeBooks2 = []\n",
    "    for i in range(len(codeBooks)):\n",
    "        codeBooks2.append([])\n",
    "    \n",
    "        for j in range(len(codeBooks[i])):\n",
    "            codeBooks2[i].append([])\n",
    "          \n",
    "            for codeword in codeBooks[i][j]:\n",
    "                codeword[6] = max(codeword[6], (n_images - codeword[8] + codeword[7] - 1))\n",
    "            \n",
    "                if (codeword[6] >= n_images/2):\n",
    "                    codeBooks2[i][j].append(codeword)\n",
    "    \n",
    "    return codeBooks2\n",
    "\n",
    "#Conta quantas pessoas estao em uma imagem atraves da detecção de contornos\n",
    "def get_Count(img):\n",
    "    imgray = cv2.cvtColor(img,cv2.COLOR_BGR2GRAY)\n",
    "    kernel = np.ones((5,5),np.uint8)\n",
    "    erosion = cv2.erode(imgray ,kernel,iterations = 1)\n",
    "    dilation = cv2.dilate(erosion,kernel,iterations = 1)\n",
    "    \n",
    "    ret,thresh = cv2.threshold(dilation,127,255,0)\n",
    "    im2, contours, hierarchy = cv2.findContours(thresh,cv2.RETR_TREE,cv2.CHAIN_APPROX_SIMPLE)\n",
    "    count = 0\n",
    "\n",
    "    for cnt in contours:\n",
    "        if (cv2.contourArea(cnt) > 300) and (cv2.contourArea(cnt) < 4000):\n",
    "            count += 1\n",
    "         \n",
    "    return count"
   ]
  },
  {
   "cell_type": "markdown",
   "metadata": {},
   "source": [
    "# Main Code"
   ]
  },
  {
   "cell_type": "markdown",
   "metadata": {},
   "source": [
    "### Constantes e leitura de imagens"
   ]
  },
  {
   "cell_type": "code",
   "execution_count": 4,
   "metadata": {},
   "outputs": [],
   "source": [
    "#Constantes\n",
    "e = 1150\n",
    "alpha = 0.5    #  0.4 < Alpha < 0.7\n",
    "beta = 1.2    #  1.1 < Beta   < 1.5\n",
    "\n",
    "#Arquivo Background\n",
    "rep_Background  = \"./SO_BG/Crowd_PETS09/S0/Background/View_001/Time_13-32/\"\n",
    "name_Background = rep_Background + \"0000\"\n",
    "\n",
    "#Arquivo Forground\n",
    "rep_Forground  = \"./SO_CC/Crowd_PETS09/S0/City_Center/Time_12-34/View_001/\"\n",
    "name_Forground = rep_Forground + \"frame_\"\n",
    "\n",
    "#Read imgs\n",
    "n_imgs      = 10\n",
    "img_list    = read_Imgs(name_Background, n_imgs,\".jpg\", 446)\n",
    "img_list2   = read_Imgs(name_Forground, n_imgs ,\".jpg\", 200)\n",
    "img_sub     = img_list2.copy()"
   ]
  },
  {
   "cell_type": "markdown",
   "metadata": {},
   "source": [
    "### Criação do codeBook e treinamento de background"
   ]
  },
  {
   "cell_type": "code",
   "execution_count": 5,
   "metadata": {},
   "outputs": [],
   "source": [
    "codeBooks = createCode_Book(img_list[0].shape[0], img_list[0].shape[1])\n",
    "codeBooks = get_CodeBook(img_list, codeBooks)\n",
    "codeBooks = alter_Lambda(codeBooks, n_imgs)"
   ]
  },
  {
   "cell_type": "markdown",
   "metadata": {},
   "source": [
    "### Subtração do Foreground e Background"
   ]
  },
  {
   "cell_type": "code",
   "execution_count": 6,
   "metadata": {},
   "outputs": [],
   "source": [
    "e = 5000000\n",
    "alpha = 0.6    #  0.4 < Alpha < 0.7\n",
    "beta = 1.3    #  1.1 < Beta   < 1.5\n",
    "img_sub   = getSubtract(img_sub, codeBooks)"
   ]
  },
  {
   "cell_type": "markdown",
   "metadata": {},
   "source": [
    "### Resultados"
   ]
  },
  {
   "cell_type": "markdown",
   "metadata": {},
   "source": [
    "Os resultados obtidos mostram com certa clareza na distinção de elementos humanos do background, tornando-se possível a contagem de indivíduos em cada frame, os borrões brancos presentes na imagem que não representam esses elementos podem representar uma certa imprecisão na detecção e contagem, devido a parâmetros não ideais tomados na implementação no algoritmo deste documento ou possiveis erros, assim como podem representar objetos que sofreram algum tipo de movimento devido ao vento."
   ]
  },
  {
   "cell_type": "code",
   "execution_count": 17,
   "metadata": {},
   "outputs": [
    {
     "data": {
      "image/png": "[encoded data removed]",
      "text/plain": [
       "<Figure size 432x288 with 1 Axes>"
      ]
     },
     "metadata": {},
     "output_type": "display_data"
    },
    {
     "name": "stdout",
     "output_type": "stream",
     "text": [
      "Imagem com 5 pessoas\n"
     ]
    },
    {
     "data": {
      "image/png": "[encoded data removed]",
      "text/plain": [
       "<Figure size 432x288 with 1 Axes>"
      ]
     },
     "metadata": {},
     "output_type": "display_data"
    },
    {
     "name": "stdout",
     "output_type": "stream",
     "text": [
      "Imagem com 7 pessoas\n"
     ]
    },
    {
     "data": {
      "image/png": "[encoded data removed]",
      "text/plain": [
       "<Figure size 432x288 with 1 Axes>"
      ]
     },
     "metadata": {},
     "output_type": "display_data"
    },
    {
     "name": "stdout",
     "output_type": "stream",
     "text": [
      "Imagem com 8 pessoas\n"
     ]
    },
    {
     "data": {
      "image/png": "[encoded data removed]",
      "text/plain": [
       "<Figure size 432x288 with 1 Axes>"
      ]
     },
     "metadata": {},
     "output_type": "display_data"
    },
    {
     "name": "stdout",
     "output_type": "stream",
     "text": [
      "Imagem com 5 pessoas\n"
     ]
    },
    {
     "data": {
      "image/png": "[encoded data removed]",
      "text/plain": [
       "<Figure size 432x288 with 1 Axes>"
      ]
     },
     "metadata": {},
     "output_type": "display_data"
    },
    {
     "name": "stdout",
     "output_type": "stream",
     "text": [
      "Imagem com 8 pessoas\n"
     ]
    },
    {
     "data": {
      "image/png": "[encoded data removed]",
      "text/plain": [
       "<Figure size 432x288 with 1 Axes>"
      ]
     },
     "metadata": {},
     "output_type": "display_data"
    },
    {
     "name": "stdout",
     "output_type": "stream",
     "text": [
      "Imagem com 7 pessoas\n"
     ]
    },
    {
     "data": {
      "image/png": "[encoded data removed]",
      "text/plain": [
       "<Figure size 432x288 with 1 Axes>"
      ]
     },
     "metadata": {},
     "output_type": "display_data"
    },
    {
     "name": "stdout",
     "output_type": "stream",
     "text": [
      "Imagem com 7 pessoas\n"
     ]
    },
    {
     "data": {
      "image/png": "[encoded data removed]",
      "text/plain": [
       "<Figure size 432x288 with 1 Axes>"
      ]
     },
     "metadata": {},
     "output_type": "display_data"
    },
    {
     "name": "stdout",
     "output_type": "stream",
     "text": [
      "Imagem com 7 pessoas\n"
     ]
    },
    {
     "data": {
      "image/png": "[encoded data removed]",
      "text/plain": [
       "<Figure size 432x288 with 1 Axes>"
      ]
     },
     "metadata": {},
     "output_type": "display_data"
    },
    {
     "name": "stdout",
     "output_type": "stream",
     "text": [
      "Imagem com 7 pessoas\n"
     ]
    },
    {
     "data": {
      "image/png": "[encoded data removed]",
      "text/plain": [
       "<Figure size 432x288 with 1 Axes>"
      ]
     },
     "metadata": {},
     "output_type": "display_data"
    },
    {
     "name": "stdout",
     "output_type": "stream",
     "text": [
      "Imagem com 8 pessoas\n"
     ]
    }
   ],
   "source": [
    "for i in (img_sub):\n",
    "    n = get_Count(np.uint8(i))\n",
    "    plt.imshow(np.uint8(i))\n",
    "    plt.show()\n",
    "    print(\"Imagem com\", n, \"pessoas\")"
   ]
  },
  {
   "cell_type": "code",
   "execution_count": null,
   "metadata": {},
   "outputs": [],
   "source": []
  }
 ],
 "metadata": {
  "kernelspec": {
   "display_name": "Python 3",
   "language": "python",
   "name": "python3"
  },
  "language_info": {
   "codemirror_mode": {
    "name": "ipython",
    "version": 3
   },
   "file_extension": ".py",
   "mimetype": "text/x-python",
   "name": "python",
   "nbconvert_exporter": "python",
   "pygments_lexer": "ipython3",
   "version": "3.6.5"
  }
 },
 "nbformat": 4,
 "nbformat_minor": 2
}
