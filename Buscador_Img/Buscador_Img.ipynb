{
 "cells": [
  {
   "cell_type": "markdown",
   "metadata": {},
   "source": [
    "# Projeto 3 - Parte 2/2 Buscador de Imagens"
   ]
  },
  {
   "cell_type": "markdown",
   "metadata": {},
   "source": [
    "## Imports"
   ]
  },
  {
   "cell_type": "code",
   "execution_count": 51,
   "metadata": {},
   "outputs": [],
   "source": [
    "from keras_preprocessing import image\n",
    "from keras.applications.mobilenetv2 import MobileNetV2, decode_predictions\n",
    "from keras.applications.mobilenetv2 import preprocess_input\n",
    "import matplotlib.pyplot as plt\n",
    "import numpy as np\n",
    "import pickle\n",
    "import cv2\n",
    "import keras\n",
    "import os"
   ]
  },
  {
   "cell_type": "markdown",
   "metadata": {},
   "source": [
    "## Funções"
   ]
  },
  {
   "cell_type": "code",
   "execution_count": 2,
   "metadata": {},
   "outputs": [],
   "source": [
    "def mnetv2_input_from_image(img):\n",
    "    x = image.img_to_array(img)\n",
    "    x = np.expand_dims(x, axis=0)\n",
    "    return preprocess_input(x)\n",
    "\n",
    "def read_imgs(pastas, initial, max_items, shuf):\n",
    "    list_Names  = []\n",
    "    list_Imgs   = []\n",
    "    \n",
    "    for pasta in pastas:\n",
    "        dir_Name = \"./dataset-projeto-3-2/\" + pasta + \"/\"\n",
    "        img_Name = os.listdir(dir_Name)\n",
    "        \n",
    "        if(shuf):\n",
    "            shuffle(img_Name)\n",
    "            \n",
    "        for i in range(initial, max_items):\n",
    "            name = dir_Name + img_Name[i]\n",
    "            list_Imgs.append(cv2.imread(name))\n",
    "            list_Names.append(name)\n",
    "\n",
    "    return list_Names, list_Imgs\n",
    "\n",
    "def img_format(list_Names, h = 224, w = 224):\n",
    "    list_Imgs = []\n",
    "    for img in list_Names:\n",
    "        list_Imgs.append(image.load_img(img, target_size=(h, w)))\n",
    "    \n",
    "    return list_Imgs\n",
    "\n",
    "def mnetv2_input_from_image(img):\n",
    "    x = image.img_to_array(img)\n",
    "    x = np.expand_dims(x, axis=0)\n",
    "    return preprocess_input(x)\n",
    "\n",
    "\n",
    "def predit_Image(list_Imgs, list_Names):\n",
    "    list_Imgs  = list_Imgs[:2]\n",
    "    list_Names = list_Names[:2]\n",
    "    dic = {}\n",
    "    for img, path in zip(list_Imgs, list_Names) :\n",
    "        process = mnetv2_input_from_image(img)\n",
    "        model = MobileNetV2(input_shape=None, alpha=1.0, depth_multiplier=1, include_top=True, weights='imagenet', input_tensor=None, pooling=None, classes=1000)\n",
    "        preds = model.predict(process)\n",
    "        preds_format = decode_predictions(preds, top = 1)[0]\n",
    "       \n",
    "        class_Name = preds_format[0][1]\n",
    "        value = preds_format[0][2]\n",
    "            \n",
    "        if (class_Name not in dic):\n",
    "            dic[class_Name] = []\n",
    "        \n",
    "        dic[class_Name].append((path, value))\n",
    "\n",
    "    return dic\n",
    "\n",
    "def get_Imgs(load_dic, category):\n",
    "    list_index = []\n",
    "    for i in range(len(load_dic[category])):\n",
    "        list_index.append(load_dic[category][0][1])\n",
    "\n",
    "    list_aux = np.argsort(list_index)[::-1]\n",
    "\n",
    "    list_load_imgs = []\n",
    "    for i in list_aux:\n",
    "        list_load_imgs.append(load_dic[category][i][0])\n",
    "    \n",
    "    return list_load_imgs   \n",
    "\n",
    "def plot_Imgs(list_load_imgs):\n",
    "    for img in list_load_imgs:\n",
    "        img_plt = cv2.imread(img)\n",
    "        plt.axis(\"off\")\n",
    "        plt.imshow(cv2.cvtColor(img_plt, cv2.COLOR_BGR2RGB))\n",
    "        plt.show()"
   ]
  },
  {
   "cell_type": "markdown",
   "metadata": {},
   "source": [
    "## Carregamento do dataset"
   ]
  },
  {
   "cell_type": "code",
   "execution_count": 3,
   "metadata": {},
   "outputs": [],
   "source": [
    "pastas = os.listdir(\"./dataset-projeto-3-2\")\n",
    "list_Names, _ = read_imgs(pastas, 0, 5, 0)\n",
    "list_Imgs = img_format(list_Names)"
   ]
  },
  {
   "cell_type": "markdown",
   "metadata": {},
   "source": [
    "## Treinamento das imagens por classificação "
   ]
  },
  {
   "cell_type": "code",
   "execution_count": 43,
   "metadata": {},
   "outputs": [
    {
     "name": "stdout",
     "output_type": "stream",
     "text": [
      "hook 0.45275557\n",
      "hook 0.80470836\n"
     ]
    }
   ],
   "source": [
    "dic = predit_Image(list_Imgs, list_Names)"
   ]
  },
  {
   "cell_type": "markdown",
   "metadata": {},
   "source": [
    "## Escrita do dicionario de treinamento em um arquivo txt "
   ]
  },
  {
   "cell_type": "code",
   "execution_count": 44,
   "metadata": {},
   "outputs": [],
   "source": [
    "with open('train.pickle', 'wb') as handle:\n",
    "    pickle.dump(dic, handle, protocol=pickle.HIGHEST_PROTOCOL)"
   ]
  },
  {
   "cell_type": "markdown",
   "metadata": {},
   "source": [
    "## Leitura do arquivo de treinamento"
   ]
  },
  {
   "cell_type": "code",
   "execution_count": 45,
   "metadata": {},
   "outputs": [],
   "source": [
    "with open('train.pickle', 'rb') as handle:\n",
    "    load_dic = pickle.load(handle)"
   ]
  },
  {
   "cell_type": "markdown",
   "metadata": {},
   "source": [
    "## Seleção da categoria de busca"
   ]
  },
  {
   "cell_type": "code",
   "execution_count": 55,
   "metadata": {},
   "outputs": [
    {
     "name": "stdout",
     "output_type": "stream",
     "text": [
      "Escolha uma caregoria: hook\n"
     ]
    }
   ],
   "source": [
    "category = input(\"Escolha uma caregoria: \")"
   ]
  },
  {
   "cell_type": "code",
   "execution_count": 56,
   "metadata": {},
   "outputs": [
    {
     "data": {
      "image/png": "[encoded data removed]",
      "text/plain": [
       "<Figure size 432x288 with 1 Axes>"
      ]
     },
     "metadata": {
      "needs_background": "light"
     },
     "output_type": "display_data"
    },
    {
     "data": {
      "image/png": "[encoded data removed]",
      "text/plain": [
       "<Figure size 432x288 with 1 Axes>"
      ]
     },
     "metadata": {
      "needs_background": "light"
     },
     "output_type": "display_data"
    }
   ],
   "source": [
    "if (category in load_dic):\n",
    "    list_load_imgs = get_Imgs(load_dic, category)\n",
    "    plot_Imgs(list_load_imgs)\n",
    "    \n",
    "else:\n",
    "    print(\"Categoria Invalida\")"
   ]
  }
 ],
 "metadata": {
  "kernelspec": {
   "display_name": "Python 3",
   "language": "python",
   "name": "python3"
  },
  "language_info": {
   "codemirror_mode": {
    "name": "ipython",
    "version": 3
   },
   "file_extension": ".py",
   "mimetype": "text/x-python",
   "name": "python",
   "nbconvert_exporter": "python",
   "pygments_lexer": "ipython3",
   "version": "3.6.7"
  }
 },
 "nbformat": 4,
 "nbformat_minor": 2
}
